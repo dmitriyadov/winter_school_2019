{
 "cells": [
  {
   "cell_type": "markdown",
   "metadata": {},
   "source": [
    "### VAE"
   ]
  },
  {
   "cell_type": "code",
   "execution_count": 1,
   "metadata": {},
   "outputs": [
    {
     "data": {
      "application/javascript": [
       "IPython.notebook.set_autosave_interval(180000)"
      ]
     },
     "metadata": {},
     "output_type": "display_data"
    },
    {
     "name": "stdout",
     "output_type": "stream",
     "text": [
      "Autosaving every 180 seconds\n",
      "env: CUDA_VISIBLE_DEVICES=-1\n"
     ]
    }
   ],
   "source": [
    "%autosave 180\n",
    "%load_ext autoreload\n",
    "%autoreload 2\n",
    "%matplotlib inline\n",
    "%env CUDA_VISIBLE_DEVICES=-1"
   ]
  },
  {
   "cell_type": "code",
   "execution_count": 2,
   "metadata": {},
   "outputs": [
    {
     "name": "stderr",
     "output_type": "stream",
     "text": [
      "Using TensorFlow backend.\n"
     ]
    }
   ],
   "source": [
    "import keras\n",
    "import pandas as pd\n",
    "import pylab as plt\n",
    "import numpy as np\n",
    "import pandas as pd\n",
    "from IPython.display import display, HTML, clear_output"
   ]
  },
  {
   "cell_type": "code",
   "execution_count": 3,
   "metadata": {},
   "outputs": [],
   "source": [
    "def create_data(n=10000):\n",
    "    randn = np.random.normal\n",
    "    X = randn(0, 1 , n)\n",
    "    ind = np.random.randint(0, 2, n).astype(np.float32)\n",
    "    mu1 = 2.0\n",
    "    sigma1 = 0.3\n",
    "    mu2 = -2.0\n",
    "    sigma2 = 0.1\n",
    "    Y = (1.0-ind) * randn(mu1, sigma1 , n) + ind * randn(mu2, sigma2, n) + X\n",
    "    return X[..., None], Y[..., None], ind[..., None]\n",
    "\n",
    "def get_model_input(n=10000):\n",
    "    randn = np.random.normal\n",
    "    input_x, input_y, index = create_data(n=n)\n",
    "    input_z = randn(0, 1, n)\n",
    "    out_y_avg_std = input_y.repeat(2, axis=1)\n",
    "    out_y_avg_std = np.expand_dims(out_y_avg_std, axis=1)\n",
    "    \n",
    "    out_z_avg_std = np.zeros((n, 1, 2))\n",
    "    return dict(\n",
    "        index=index,\n",
    "        input_x=input_x.astype(np.float32),\n",
    "        input_y=input_y.astype(np.float32),\n",
    "        input_z=input_z.astype(np.float32),\n",
    "        out_y_avg_std=out_y_avg_std.astype(np.float32),\n",
    "        out_z_avg_std=out_z_avg_std.astype(np.float32),\n",
    "    )"
   ]
  },
  {
   "cell_type": "code",
   "execution_count": 4,
   "metadata": {},
   "outputs": [
    {
     "name": "stdout",
     "output_type": "stream",
     "text": [
      "index (10000, 1)\n",
      "input_x (10000, 1)\n",
      "input_y (10000, 1)\n",
      "input_z (10000,)\n",
      "out_y_avg_std (10000, 1, 2)\n",
      "out_z_avg_std (10000, 1, 2)\n"
     ]
    }
   ],
   "source": [
    "data = get_model_input(n=10000)\n",
    "for key in data:\n",
    "    print(key, data[key].shape)"
   ]
  },
  {
   "cell_type": "code",
   "execution_count": 5,
   "metadata": {},
   "outputs": [
    {
     "data": {
      "text/plain": [
       "<matplotlib.collections.PathCollection at 0x7f75ad0b4438>"
      ]
     },
     "execution_count": 5,
     "metadata": {},
     "output_type": "execute_result"
    },
    {
     "data": {
      "image/png": "[encoded data removed]",
      "text/plain": [
       "<Figure size 432x288 with 1 Axes>"
      ]
     },
     "metadata": {
      "needs_background": "light"
     },
     "output_type": "display_data"
    }
   ],
   "source": [
    "plt.scatter(data['input_x'], data['input_y'], c=data['index'])"
   ]
  },
  {
   "cell_type": "code",
   "execution_count": 6,
   "metadata": {},
   "outputs": [],
   "source": [
    "from keras.models import Model\n",
    "from keras.layers import Input, Concatenate\n",
    "from keras.layers.core import Dense, Dropout, Activation, Reshape, Flatten, Lambda, Permute\n",
    "from keras.layers.advanced_activations import PReLU\n",
    "from keras.optimizers import Adam, Nadam\n",
    "from keras import backend as K\n",
    "\n",
    "\n",
    "\n",
    "def likelihood_objective(y_true, y_pred):\n",
    "    y_true = y_true[...,0]\n",
    "    y_pred_avg = y_pred[...,0]\n",
    "    y_pred_std = y_pred[...,1]\n",
    "    \n",
    "    y_pred_std = K.exp(y_pred_std)\n",
    "    \n",
    "    dav = y_true - y_pred_avg\n",
    "    loss = .5*K.square(dav) / K.square(y_pred_std) + 0.5 * K.log(2.0*np.pi) + K.log(y_pred_std)\n",
    "    loss = K.sum(loss, axis=-1)\n",
    "\n",
    "    return loss\n",
    "\n",
    "def kl_objective(y_true, z_avg_std):\n",
    "\n",
    "    z_avg = z_avg_std[...,0]\n",
    "    z_std = z_avg_std[...,1]\n",
    "    z_log_var = 2.0 * z_std\n",
    "    loss = - 0.5 * (1 + z_log_var - K.square(z_avg) - K.exp(z_log_var))\n",
    "    loss = K.sum(loss, axis=-1)\n",
    "\n",
    "    return loss\n",
    "\n",
    "\n",
    "def K_sampling(args):\n",
    "    out_z_avg_std, input_z = args\n",
    "    z_mean = out_z_avg_std[...,0]\n",
    "    z_std = out_z_avg_std[...,1]\n",
    "    return z_mean + K.exp(z_std) * input_z\n",
    "\n",
    "def create_model():\n",
    "\n",
    "    models = {}\n",
    "    input_x  = Input(shape=(1,), name=\"input_x\")\n",
    "    input_y  = Input(shape=(1,), name=\"input_y\")\n",
    "    input_z  = Input(shape=(1,), name=\"input_z\")\n",
    "\n",
    "    x = Concatenate(axis=-1)([input_x, input_y])\n",
    "    for i in [32, 16, 8, 4, 2]:\n",
    "        x = Dense(i, activation=None)(x)\n",
    "        x = PReLU()(x)\n",
    "        \n",
    "    x = Dense(2)(x)\n",
    "    out_z_avg_std = Reshape(target_shape=(1,2,), name='out_z_avg_std')(x)\n",
    "    \n",
    "    sample = Lambda(K_sampling, output_shape=(1,))([out_z_avg_std, input_z])\n",
    "    \n",
    "    models['encoder'] = Model(\n",
    "        inputs=[input_x, input_y, input_z], \n",
    "        outputs=sample, \n",
    "        name='encoder'\n",
    "    )\n",
    "    \n",
    "    models['z_avg_std'] = Model(\n",
    "        inputs=[input_x, input_y], \n",
    "        outputs=out_z_avg_std, \n",
    "        name='out_z_avg_std'\n",
    "    )\n",
    "    \n",
    "    x = Concatenate(axis=-1)([input_x, input_z])\n",
    "\n",
    "    for i in [32, 16, 8, 4, 2]:\n",
    "        x = Dense(i)(x)\n",
    "        x = PReLU()(x)\n",
    "        \n",
    "    x = Dense(2)(x)\n",
    "    out_y_avg_std = Reshape(target_shape=(1,2,), name='out_y_avg_std')(x)\n",
    "    \n",
    "    models['y_avg_std'] = Model(\n",
    "        inputs=[input_x, input_z], \n",
    "        outputs=[out_y_avg_std], \n",
    "        name='out_y_avg_std'\n",
    "    )\n",
    "    \n",
    "    output_decoder = models[\"y_avg_std\"]([input_x, models[\"encoder\"]([input_x, input_y, input_z])])\n",
    "    \n",
    "    models[\"vae\"] = Model(\n",
    "        inputs=[input_x, input_y, input_z], \n",
    "        outputs=[output_decoder, out_z_avg_std], \n",
    "        name='vae'\n",
    "    )\n",
    "    \n",
    "    optimizer = Adam(lr=0.001) # 0.001\n",
    "    \n",
    "    models['vae'].compile(\n",
    "        optimizer=optimizer,\n",
    "        loss={\n",
    "            'out_y_avg_std': likelihood_objective,\n",
    "            'out_z_avg_std': kl_objective\n",
    "        }\n",
    "    )\n",
    "    return models\n"
   ]
  },
  {
   "cell_type": "code",
   "execution_count": 7,
   "metadata": {
    "scrolled": false
   },
   "outputs": [],
   "source": [
    "models = create_model()"
   ]
  },
  {
   "cell_type": "code",
   "execution_count": null,
   "metadata": {
    "scrolled": false
   },
   "outputs": [
    {
     "data": {
      "image/png": "[encoded data removed]",
      "text/plain": [
       "<Figure size 576x576 with 2 Axes>"
      ]
     },
     "metadata": {
      "needs_background": "light"
     },
     "output_type": "display_data"
    },
    {
     "name": "stdout",
     "output_type": "stream",
     "text": [
      "Train on 7000 samples, validate on 3000 samples\n",
      "Epoch 1/1\n",
      "7000/7000 [==============================] - 1s 144us/step - loss: 2.1157 - out_y_avg_std_loss: 2.1120 - out_z_avg_std_loss: 0.0038 - val_loss: 2.1187 - val_out_y_avg_std_loss: 2.1136 - val_out_z_avg_std_loss: 0.0052\n"
     ]
    }
   ],
   "source": [
    "for i in range(100):\n",
    "    models['vae'].fit(\n",
    "        data, data, epochs=1,\n",
    "        validation_split=.3,\n",
    "        shuffle=True,\n",
    "    )\n",
    "    clear_output(wait=True)\n",
    "    \n",
    "    plt.figure(figsize=(8, 8))\n",
    "    plt.subplot(121)\n",
    "    plt.title('z_avg_std')\n",
    "    z_avg_std = models['z_avg_std'].predict(data)\n",
    "    z_avg_std = np.squeeze(z_avg_std)\n",
    "    plt.scatter(z_avg_std[:,0], z_avg_std[:,1], c=np.squeeze(data['index']))\n",
    "    plt.xlabel('z_avg')\n",
    "    plt.ylabel('z_std')\n",
    "    plt.axis('square')\n",
    "    \n",
    "    plt.subplot(122)\n",
    "    plt.title('y_avg_std')\n",
    "    y_avg_std = models['y_avg_std'].predict(data)\n",
    "    y_avg_std = np.squeeze(y_avg_std)\n",
    "    plt.scatter(y_avg_std[:,0], y_avg_std[:,1], c=np.squeeze(data['index']))\n",
    "    plt.xlabel('y_avg')\n",
    "    plt.ylabel('y_std')\n",
    "    plt.axis('square')\n",
    "    plt.show()"
   ]
  },
  {
   "cell_type": "code",
   "execution_count": null,
   "metadata": {},
   "outputs": [],
   "source": []
  }
 ],
 "metadata": {
  "kernelspec": {
   "display_name": "Python 3",
   "language": "python",
   "name": "python3"
  },
  "language_info": {
   "codemirror_mode": {
    "name": "ipython",
    "version": 3
   },
   "file_extension": ".py",
   "mimetype": "text/x-python",
   "name": "python",
   "nbconvert_exporter": "python",
   "pygments_lexer": "ipython3",
   "version": "3.6.8"
  }
 },
 "nbformat": 4,
 "nbformat_minor": 2
}
