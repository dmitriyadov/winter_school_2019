{
 "cells": [
  {
   "cell_type": "code",
   "execution_count": 1,
   "metadata": {},
   "outputs": [
    {
     "name": "stdout",
     "output_type": "stream",
     "text": [
      "env: CUDA_VISIBLE_DEVICES=-1\n"
     ]
    }
   ],
   "source": [
    "%env CUDA_VISIBLE_DEVICES=-1"
   ]
  },
  {
   "cell_type": "code",
   "execution_count": 2,
   "metadata": {},
   "outputs": [
    {
     "data": {
      "application/javascript": [
       "IPython.notebook.set_autosave_interval(180000)"
      ]
     },
     "metadata": {},
     "output_type": "display_data"
    },
    {
     "name": "stdout",
     "output_type": "stream",
     "text": [
      "Autosaving every 180 seconds\n"
     ]
    }
   ],
   "source": [
    "%autosave 180\n",
    "%load_ext autoreload\n",
    "%autoreload 2\n",
    "%matplotlib inline\n",
    "from IPython.core.display import display, HTML\n",
    "# display(HTML(\"<style>.container { width:100% !important; }</style>\"))"
   ]
  },
  {
   "cell_type": "code",
   "execution_count": 3,
   "metadata": {},
   "outputs": [],
   "source": [
    "import pylab as plt\n",
    "import numpy as np\n",
    "from pylab import *\n",
    "from tqdm import tqdm_notebook as tqdm\n",
    "from scipy.io import loadmat\n"
   ]
  },
  {
   "cell_type": "code",
   "execution_count": 4,
   "metadata": {},
   "outputs": [
    {
     "name": "stderr",
     "output_type": "stream",
     "text": [
      "Using TensorFlow backend.\n"
     ]
    }
   ],
   "source": [
    "from keras.layers import Input, Dense, Lambda, Flatten, Concatenate, Conv1D\n",
    "from keras.models import Model\n",
    "from keras.optimizers import Adam\n",
    "from keras import backend as K\n",
    "from functools import partial\n",
    "import tensorflow as tf\n",
    "from keras.engine.topology import Layer\n",
    "\n",
    "from keras import backend as K\n",
    "from keras.engine.topology import Layer\n",
    "import numpy as np\n",
    "import keras\n",
    "from IPython.display import clear_output\n",
    "class PlotLosses(keras.callbacks.Callback):\n",
    "    def on_train_begin(self, logs={}):\n",
    "        self.i = 0\n",
    "        self.x = []\n",
    "        self.losses = []\n",
    "        self.val_losses = []\n",
    "        \n",
    "        self.fig = plt.figure()\n",
    "        \n",
    "        self.logs = []\n",
    "\n",
    "    def on_epoch_end(self, epoch, logs={}):\n",
    "        \n",
    "        self.logs.append(logs)\n",
    "        self.x.append(self.i)\n",
    "        self.losses.append(logs.get('loss'))\n",
    "        self.val_losses.append(logs.get('val_loss'))\n",
    "        self.i += 1\n",
    "        \n",
    "        clear_output(wait=True)\n",
    "        plt.plot(self.x, self.losses, label=\"loss\", marker='*')\n",
    "        plt.plot(self.x, self.val_losses, label=\"val_loss\", marker='*')\n",
    "        plt.legend()\n",
    "        plt.show();\n",
    "        \n",
    "plot_losses = PlotLosses()"
   ]
  },
  {
   "cell_type": "code",
   "execution_count": 58,
   "metadata": {},
   "outputs": [],
   "source": [
    "class GradientLayer1D(Layer):\n",
    "    def __init__(self, output_dim, **kwargs):\n",
    "        self.output_dim = output_dim\n",
    "        super(GradientLayer1D, self).__init__(**kwargs)\n",
    "\n",
    "    def build(self, input_shapes):\n",
    "        super(GradientLayer1D, self).build(input_shapes)\n",
    "\n",
    "    def compute_output_shape(self, input_shape):\n",
    "        return (input_shape[0], self.output_dim)\n",
    "        \n",
    "    def call(self, tensors):\n",
    "        u, input_x, input_v = tensors\n",
    "        \n",
    "        #[0] - keras specifics\n",
    "        dudx = tf.gradients(u, input_x)[0]\n",
    "        \n",
    "        val = K.square(dudx) - input_v\n",
    "        return  val\n",
    "\n",
    "def init_model1D(nX=1):\n",
    "    \n",
    "    input_x = Input(shape=(nX,), name='input_x')\n",
    "    input_v = Input(shape=(nX,), name='input_v')\n",
    "    tensors = [input_x, input_v]\n",
    "    \n",
    "    nh = 32\n",
    "    \n",
    "    activation = 'tanh'\n",
    "#     activation = 'softplus'\n",
    "#     activation = 'relu'\n",
    "#     activation = 'sigmoid'\n",
    "#     activation = 'relu'\n",
    "#     activation = 'softmax'\n",
    "\n",
    "    x = input_x\n",
    "    x = Dense(nh, activation=activation)(x)\n",
    "    x = Dense(nh, activation=activation)(x)\n",
    "\n",
    "\n",
    "    output = Dense(nX, activation=None)(x)\n",
    "    output = Lambda(lambda x: K.abs(x), name='time')(output)\n",
    "    \n",
    "    \n",
    "    gradient = GradientLayer1D(1, name='loss')([output] + tensors)\n",
    "    \n",
    "    model_time = Model(inputs=tensors, outputs=output)\n",
    "    model_loss = Model(inputs=tensors, outputs=gradient)\n",
    "    \n",
    "    def custom_objective(y_true, y_pred):\n",
    "        return keras.losses.mean_squared_error(y_pred*0, y_pred) + K.sum(K.square(y_true*output))\n",
    "\n",
    "    optimizer = Adam(lr=0.001)\n",
    "    \n",
    "    model_loss.compile(\n",
    "        optimizer=optimizer, \n",
    "        loss=custom_objective\n",
    "    )\n",
    "    return model_loss, model_time"
   ]
  },
  {
   "cell_type": "markdown",
   "metadata": {},
   "source": [
    "### 1D"
   ]
  },
  {
   "cell_type": "code",
   "execution_count": 59,
   "metadata": {},
   "outputs": [],
   "source": [
    "ndim = 1001\n",
    "xc = 800\n",
    "input_x = np.linspace(0, 1, ndim) \n",
    "dx = np.diff(input_x)[1]\n",
    "\n",
    "input_x = input_x[..., None]\n",
    "input_v = input_x*0 + 1\n",
    "\n",
    "input_w = input_x*0\n",
    "input_w[xc] = 1\n",
    "\n",
    "true_u = np.abs(input_x - input_x[xc])\n",
    "\n",
    "data = dict(\n",
    "    input_x=input_x,\n",
    "    input_v=input_v,\n",
    ")"
   ]
  },
  {
   "cell_type": "code",
   "execution_count": 60,
   "metadata": {},
   "outputs": [],
   "source": [
    "model_loss, model_time = init_model1D(nX=1)"
   ]
  },
  {
   "cell_type": "code",
   "execution_count": 61,
   "metadata": {},
   "outputs": [
    {
     "data": {
      "image/png": "[encoded data removed]",
      "text/plain": [
       "<Figure size 432x288 with 2 Axes>"
      ]
     },
     "metadata": {
      "needs_background": "light"
     },
     "output_type": "display_data"
    }
   ],
   "source": [
    "for i in range(20):\n",
    "    model_loss.fit(\n",
    "        data, \n",
    "        input_w,\n",
    "        batch_size=32,\n",
    "        epochs=1,\n",
    "        shuffle=True,\n",
    "        callbacks=[],\n",
    "    )\n",
    "    \n",
    "    clear_output(wait=True)\n",
    "    \n",
    "    plt.subplot(121)\n",
    "    pred = model_loss.predict(data)\n",
    "    pred = np.squeeze(pred)\n",
    "    plt.plot(np.squeeze(pred))\n",
    "    plt.plot(xc, pred[xc], 'or')\n",
    "\n",
    "    plt.subplot(122)\n",
    "    u = model_time.predict(data)\n",
    "    u = np.squeeze(u)\n",
    "    plt.plot(u)\n",
    "    plt.plot(true_u)\n",
    "    # plt.plot(true_u)\n",
    "    plt.plot(xc, u[xc], 'or')\n",
    "    plt.show()\n",
    "\n"
   ]
  },
  {
   "cell_type": "code",
   "execution_count": null,
   "metadata": {},
   "outputs": [],
   "source": []
  }
 ],
 "metadata": {
  "kernelspec": {
   "display_name": "Python 3",
   "language": "python",
   "name": "python3"
  },
  "language_info": {
   "codemirror_mode": {
    "name": "ipython",
    "version": 3
   },
   "file_extension": ".py",
   "mimetype": "text/x-python",
   "name": "python",
   "nbconvert_exporter": "python",
   "pygments_lexer": "ipython3",
   "version": "3.6.8"
  }
 },
 "nbformat": 4,
 "nbformat_minor": 2
}
